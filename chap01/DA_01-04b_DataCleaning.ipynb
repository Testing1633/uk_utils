{
 "cells": [
  {
   "cell_type": "code",
   "execution_count": null,
   "metadata": {},
   "outputs": [],
   "source": [
    "import pandas as pd\n",
    "import seaborn as sns\n",
    "import numpy as np\n",
    "from matplotlib import pyplot as plt\n",
    "\n",
    "import os"
   ]
  },
  {
   "cell_type": "code",
   "execution_count": null,
   "metadata": {},
   "outputs": [],
   "source": [
    "pd.set_option('display.precision', 3)\n",
    "np.set_printoptions(precision=3)"
   ]
  },
  {
   "cell_type": "markdown",
   "metadata": {},
   "source": [
    "## Read the dataset"
   ]
  },
  {
   "cell_type": "code",
   "execution_count": null,
   "metadata": {},
   "outputs": [],
   "source": [
    "filename = 'titanic.csv'\n",
    "\n",
    "data_dir = os.sep.join(['..', '..', 'datasets'])\n",
    "path = os.sep.join([data_dir, filename])\n",
    "\n",
    "data = pd.read_csv(path)"
   ]
  },
  {
   "cell_type": "code",
   "execution_count": null,
   "metadata": {},
   "outputs": [],
   "source": [
    "data.info()"
   ]
  },
  {
   "cell_type": "markdown",
   "metadata": {},
   "source": [
    "## A first inspection of the dataset"
   ]
  },
  {
   "cell_type": "code",
   "execution_count": null,
   "metadata": {},
   "outputs": [],
   "source": [
    "data.describe()"
   ]
  },
  {
   "cell_type": "code",
   "execution_count": null,
   "metadata": {
    "scrolled": false
   },
   "outputs": [],
   "source": [
    "data.head(-10)"
   ]
  },
  {
   "cell_type": "markdown",
   "metadata": {},
   "source": [
    "### Delete useless data columns (variables, features)"
   ]
  },
  {
   "cell_type": "code",
   "execution_count": null,
   "metadata": {},
   "outputs": [],
   "source": [
    "data.drop(['Name', 'Ticket', 'PassengerId'], axis=1, inplace=True)\n",
    "\n",
    "print(data.info())"
   ]
  },
  {
   "cell_type": "markdown",
   "metadata": {},
   "source": [
    "## Missing values"
   ]
  },
  {
   "cell_type": "code",
   "execution_count": null,
   "metadata": {},
   "outputs": [],
   "source": [
    "data[5:6]"
   ]
  },
  {
   "cell_type": "markdown",
   "metadata": {},
   "source": [
    "Simply check for NaN (not a number)."
   ]
  },
  {
   "cell_type": "code",
   "execution_count": null,
   "metadata": {},
   "outputs": [],
   "source": [
    "data.isnull().sum()"
   ]
  },
  {
   "cell_type": "code",
   "execution_count": null,
   "metadata": {
    "scrolled": false
   },
   "outputs": [],
   "source": [
    "for c in data.columns:\n",
    "    if data[c].isnull().values.any():\n",
    "        print('Column %s contains missing values'%(c))"
   ]
  },
  {
   "cell_type": "markdown",
   "metadata": {},
   "source": [
    "Try to determine min or max values for numerical variables. Must use numpy-arrays for that."
   ]
  },
  {
   "cell_type": "code",
   "execution_count": null,
   "metadata": {},
   "outputs": [],
   "source": [
    "for c in data.columns:\n",
    "    if np.issubdtype(data[c].dtype, np.number):\n",
    "        c_min = data[c].values.min()\n",
    "        print('Column %s: %f'%(c, c_min))       "
   ]
  },
  {
   "cell_type": "markdown",
   "metadata": {},
   "source": [
    "### Delete rows"
   ]
  },
  {
   "cell_type": "code",
   "execution_count": null,
   "metadata": {},
   "outputs": [],
   "source": [
    "data2 = data.dropna()\n",
    "data2.info()"
   ]
  },
  {
   "cell_type": "code",
   "execution_count": null,
   "metadata": {},
   "outputs": [],
   "source": [
    "data3 = data.dropna(axis=1)\n",
    "data3.info()"
   ]
  },
  {
   "cell_type": "code",
   "execution_count": null,
   "metadata": {},
   "outputs": [],
   "source": [
    "data4 = data.drop('Cabin', axis = 1)\n",
    "data4.info()"
   ]
  },
  {
   "cell_type": "markdown",
   "metadata": {},
   "source": [
    "### Impute missing values"
   ]
  },
  {
   "cell_type": "code",
   "execution_count": null,
   "metadata": {},
   "outputs": [],
   "source": [
    "data5 = data[['Pclass', 'Sex', 'Age', 'Cabin']].copy()\n",
    "print(data5.head(6), '\\n')\n",
    "print(data5.Age.describe())"
   ]
  },
  {
   "cell_type": "code",
   "execution_count": null,
   "metadata": {},
   "outputs": [],
   "source": [
    "data5['Age'].replace(np.NaN, data5['Age'].mean(), inplace=True)\n",
    "print(data5.head(6), '\\n')\n",
    "print(data5.Age.describe())"
   ]
  },
  {
   "cell_type": "code",
   "execution_count": null,
   "metadata": {},
   "outputs": [],
   "source": [
    "# Reset to original age data\n",
    "data5.Age = data.Age\n",
    "\n",
    "from sklearn.impute import SimpleImputer\n",
    "\n",
    "imp = SimpleImputer(missing_values=np.nan, strategy='mean')\n",
    "\n",
    "imp.fit(data5.Age.values.reshape(-1,1))\n",
    "\n",
    "data5.Age = imp.transform(data5.Age.values.reshape(-1,1))\n",
    "\n",
    "data5.Age.describe()"
   ]
  },
  {
   "cell_type": "code",
   "execution_count": null,
   "metadata": {},
   "outputs": [],
   "source": [
    "# Reset to original age data\n",
    "data5.Age = data.Age\n",
    "\n",
    "imp = SimpleImputer(missing_values=np.nan, strategy='median')\n",
    "data5.Age = imp.fit_transform(data5.Age.values.reshape(-1,1))\n",
    "\n",
    "data5.Age.describe()"
   ]
  },
  {
   "cell_type": "code",
   "execution_count": null,
   "metadata": {},
   "outputs": [],
   "source": [
    "# Reset to original age data\n",
    "data5.Age = data.Age\n",
    "\n",
    "imp = SimpleImputer(missing_values=np.nan, strategy='most_frequent')   # Not really meaningful here \n",
    "data5.Age = imp.fit_transform(data5.Age.values.reshape(-1,1))\n",
    "\n",
    "data5.Age.describe()"
   ]
  },
  {
   "cell_type": "markdown",
   "metadata": {},
   "source": [
    "### Replace with a unique category"
   ]
  },
  {
   "cell_type": "code",
   "execution_count": null,
   "metadata": {},
   "outputs": [],
   "source": [
    "print(data5.head(6), '\\n')\n",
    "\n",
    "data5.Cabin.fillna('U', inplace=True)\n",
    "\n",
    "print(data5.head(6))"
   ]
  },
  {
   "cell_type": "code",
   "execution_count": null,
   "metadata": {},
   "outputs": [],
   "source": [
    "# Reset to original cabin data\n",
    "data5.Cabin = data.Cabin\n",
    "\n",
    "imp = SimpleImputer(missing_values=np.nan, strategy='constant', fill_value='U')\n",
    "\n",
    "data5.Cabin = imp.fit_transform(data5.Cabin.values.reshape(-1,1))\n",
    "\n",
    "print(data5.head(6))"
   ]
  },
  {
   "cell_type": "markdown",
   "metadata": {},
   "source": [
    "## Transforming data\n",
    "\n",
    "### Introducing a new variable/feature"
   ]
  },
  {
   "cell_type": "code",
   "execution_count": null,
   "metadata": {},
   "outputs": [],
   "source": [
    "print(data5.head(6))"
   ]
  },
  {
   "cell_type": "code",
   "execution_count": null,
   "metadata": {},
   "outputs": [],
   "source": [
    "data5['Gender'] = data5['Sex'].map({'female': 1, 'male': 0}).astype(int)\n",
    "data5['Deck'] = data5['Cabin'].str[0]\n",
    "\n",
    "print(data5.head(6))"
   ]
  },
  {
   "cell_type": "code",
   "execution_count": null,
   "metadata": {},
   "outputs": [],
   "source": [
    "print(data5.Pclass.unique(), data5.Sex.unique())"
   ]
  },
  {
   "cell_type": "markdown",
   "metadata": {},
   "source": [
    "### Encoding categorical variables"
   ]
  },
  {
   "cell_type": "code",
   "execution_count": null,
   "metadata": {},
   "outputs": [],
   "source": [
    "from sklearn.preprocessing import LabelEncoder, OneHotEncoder"
   ]
  },
  {
   "cell_type": "code",
   "execution_count": null,
   "metadata": {},
   "outputs": [],
   "source": [
    "le = LabelEncoder().fit(data5.Pclass)\n",
    "\n",
    "print(le.classes_)"
   ]
  },
  {
   "cell_type": "code",
   "execution_count": null,
   "metadata": {},
   "outputs": [],
   "source": [
    "for v in [1, 2, 3]:\n",
    "    print(f'{v:3d}  ->  {le.transform([v])[0]}')"
   ]
  },
  {
   "cell_type": "code",
   "execution_count": null,
   "metadata": {},
   "outputs": [],
   "source": [
    "le = LabelEncoder().fit(data5.Sex)\n",
    "\n",
    "for v in le.classes_:\n",
    "    print(f'{v:6}  ->  {le.transform([v])[0]}')"
   ]
  },
  {
   "cell_type": "code",
   "execution_count": null,
   "metadata": {},
   "outputs": [],
   "source": [
    "ohe = OneHotEncoder().fit(data5.Sex.values.reshape(-1,1))\n",
    "\n",
    "codes = ohe.transform(ohe.categories_[0].reshape(-1,1)).toarray()    # result is a sparse matrix\n",
    "\n",
    "for v, c in zip(ohe.categories_[0], codes):\n",
    "    print(f'{v:6}  ->  {c}')"
   ]
  },
  {
   "cell_type": "code",
   "execution_count": null,
   "metadata": {},
   "outputs": [],
   "source": [
    "ohe = OneHotEncoder().fit(data5.Pclass.values.reshape(-1,1))\n",
    "\n",
    "codes = ohe.transform(ohe.categories_[0].reshape(-1,1)).toarray()    # result is a sparse matrix\n",
    "\n",
    "for v, c in zip(ohe.categories_[0], codes):\n",
    "    print(f'{v:6}  ->  {c}')"
   ]
  },
  {
   "cell_type": "code",
   "execution_count": null,
   "metadata": {},
   "outputs": [],
   "source": [
    "# If you need to avoid collinearity \n",
    "ohe = OneHotEncoder(drop='first').fit(data5.Pclass.values.reshape(-1,1))\n",
    "\n",
    "codes = ohe.transform(ohe.categories_[0].reshape(-1,1)).toarray()    # result is a sparse matrix\n",
    "\n",
    "for v, c in zip(ohe.categories_[0], codes):\n",
    "    print(f'{v:6}  ->  {c}')"
   ]
  },
  {
   "cell_type": "code",
   "execution_count": null,
   "metadata": {},
   "outputs": [],
   "source": [
    "le = LabelEncoder()\n",
    "data5['SexCode'] = le.fit_transform(data5['Sex'])\n",
    "\n",
    "print(data5.head())"
   ]
  },
  {
   "cell_type": "markdown",
   "metadata": {},
   "source": [
    "Dummy variables in Pandas"
   ]
  },
  {
   "cell_type": "code",
   "execution_count": null,
   "metadata": {
    "scrolled": true
   },
   "outputs": [],
   "source": [
    "# The old variable is no longer available\n",
    "data6 = pd.get_dummies(data5, columns=['Sex'])\n",
    "\n",
    "print(data6.head())"
   ]
  },
  {
   "cell_type": "code",
   "execution_count": null,
   "metadata": {},
   "outputs": [],
   "source": [
    "print(data6.head(10), '\\n')\n",
    "\n",
    "data6 = pd.get_dummies(data6, columns=['Pclass'], drop_first=True)\n",
    "\n",
    "print(data6.head(10))"
   ]
  },
  {
   "cell_type": "markdown",
   "metadata": {},
   "source": [
    "## Possible Outliers"
   ]
  },
  {
   "cell_type": "code",
   "execution_count": null,
   "metadata": {},
   "outputs": [],
   "source": [
    "plt.figure(figsize=(8,2))\n",
    "sns.boxplot(x=data['Fare'], whis=5)\n",
    "plt.title('Box-Cox-Plot of variable Fare')"
   ]
  },
  {
   "cell_type": "code",
   "execution_count": null,
   "metadata": {},
   "outputs": [],
   "source": []
  }
 ],
 "metadata": {
  "hide_input": false,
  "kernelspec": {
   "display_name": "Python 3 (ipykernel)",
   "language": "python",
   "name": "python3"
  },
  "language_info": {
   "codemirror_mode": {
    "name": "ipython",
    "version": 3
   },
   "file_extension": ".py",
   "mimetype": "text/x-python",
   "name": "python",
   "nbconvert_exporter": "python",
   "pygments_lexer": "ipython3",
   "version": "3.9.12"
  }
 },
 "nbformat": 4,
 "nbformat_minor": 2
}
