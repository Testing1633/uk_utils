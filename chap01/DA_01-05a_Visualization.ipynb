{
 "cells": [
  {
   "cell_type": "markdown",
   "metadata": {},
   "source": [
    "# Visualization"
   ]
  },
  {
   "cell_type": "code",
   "execution_count": null,
   "metadata": {},
   "outputs": [],
   "source": [
    "import numpy as np\n",
    "import pandas as pd\n",
    "\n",
    "import matplotlib\n",
    "import matplotlib.pyplot as plt\n",
    "\n",
    "import plotly\n",
    "import plotly.express as px\n",
    "\n",
    "import seaborn as sns\n",
    "\n",
    "import os"
   ]
  },
  {
   "cell_type": "markdown",
   "metadata": {},
   "source": [
    "## Piecharts"
   ]
  },
  {
   "cell_type": "code",
   "execution_count": null,
   "metadata": {},
   "outputs": [],
   "source": [
    "path = os.sep.join(['..', '..', 'datasets', 'bawue2021.xlsx'])\n",
    "\n",
    "bawue = pd.read_excel(path)"
   ]
  },
  {
   "cell_type": "code",
   "execution_count": null,
   "metadata": {},
   "outputs": [],
   "source": [
    "# Add colors for plotting\n",
    "\n",
    "bawue['Farbe'] = ['green', 'black', 'lightblue', 'red', 'yellow', 'orange', 'lightgray']"
   ]
  },
  {
   "cell_type": "code",
   "execution_count": null,
   "metadata": {},
   "outputs": [],
   "source": [
    "bawue"
   ]
  },
  {
   "cell_type": "code",
   "execution_count": null,
   "metadata": {},
   "outputs": [],
   "source": [
    "_ = plt.figure(figsize=(8, 8))\n",
    "\n",
    "n_valid = bawue[bawue.Sitze != 0].shape[0]\n",
    "\n",
    "wedges, w_text, pct_text = plt.pie(\n",
    "    bawue[bawue.Sitze != 0].Sitze, labels=bawue.Partei.values[0:n_valid], colors=bawue.Farbe, autopct='%.1f %%')\n",
    "\n",
    "plt.setp(w_text, **{'color': 'black', 'weight': 'bold', 'fontsize': 16})\n",
    "plt.setp(pct_text, **{'color': 'white', 'weight': 'bold', 'fontsize': 16})\n",
    "plt.setp(pct_text[4], **{'color': 'grey', 'weight': 'bold', 'fontsize': 16})\n",
    "\n",
    "plt.show()"
   ]
  },
  {
   "cell_type": "code",
   "execution_count": null,
   "metadata": {},
   "outputs": [],
   "source": [
    "bawue.head(10)"
   ]
  },
  {
   "cell_type": "code",
   "execution_count": null,
   "metadata": {},
   "outputs": [],
   "source": [
    "fig = px.pie(data_frame=bawue, names='Partei', values='Sitze',\n",
    "             color='Partei', color_discrete_sequence=bawue.Farbe,\n",
    "             #labels=['Partei', 'Anteil', 'Sitze'],\n",
    "             #hover_name='Partei',\n",
    "             title='Landtagswahl 2021',\n",
    "             )\n",
    "\n",
    "fig.update_traces(hoverinfo='percent', \n",
    "                  textinfo='value', \n",
    "                  textfont_size=18,\n",
    "                 ),\n",
    "#                  marker=dict(colors=colors, line=dict(color='#000000', width=2)))\n",
    "\n",
    "fig.show()"
   ]
  },
  {
   "cell_type": "markdown",
   "metadata": {},
   "source": [
    "## Barcharts"
   ]
  },
  {
   "cell_type": "code",
   "execution_count": null,
   "metadata": {},
   "outputs": [],
   "source": [
    "_ = plt.figure(figsize=(7, 5))\n",
    "sns.barplot(x='Partei', y='Anteil', data=bawue, palette=party_colors)\n",
    "plt.ylabel('Stimmenanteil')\n",
    "plt.title('Landtagswahl Baden-Württemberg 2021')\n",
    "plt.show()"
   ]
  },
  {
   "cell_type": "code",
   "execution_count": null,
   "metadata": {},
   "outputs": [],
   "source": [
    "sns.set_style('darkgrid')\n",
    "\n",
    "_ = plt.figure(figsize=(7, 5))\n",
    "sns.barplot(x='Partei', y='Sitze', data=bawue, palette=party_colors)\n",
    "plt.title('Landtagswahl Baden-Württemberg 2021')\n",
    "plt.show()"
   ]
  },
  {
   "cell_type": "markdown",
   "metadata": {},
   "source": [
    "## Grouped barcharts"
   ]
  },
  {
   "cell_type": "code",
   "execution_count": null,
   "metadata": {},
   "outputs": [],
   "source": [
    "sex = ('M', 'F')\n",
    "\n",
    "blood = pd.DataFrame([[30, 10, 5, 40],\n",
    "                      [39, 7, 2, 22]],\n",
    "                     columns=('A', 'B', 'AB ', '0'),\n",
    "                     index=sex)"
   ]
  },
  {
   "cell_type": "code",
   "execution_count": null,
   "metadata": {},
   "outputs": [],
   "source": [
    "new_blood = pd.DataFrame(columns=('bg', 'freq', 'sex'))\n",
    "\n",
    "for index, row in blood.transpose().iterrows():\n",
    "    new_blood = new_blood.append({'bg': index,\n",
    "                                  'freq': row.M,\n",
    "                                  'sex': 'male'}, ignore_index=True)\n",
    "    new_blood = new_blood.append({'bg': index,\n",
    "                                  'freq': row.F,\n",
    "                                  'sex': 'female'}, ignore_index=True)"
   ]
  },
  {
   "cell_type": "code",
   "execution_count": null,
   "metadata": {},
   "outputs": [],
   "source": [
    "blood"
   ]
  },
  {
   "cell_type": "code",
   "execution_count": null,
   "metadata": {},
   "outputs": [],
   "source": [
    "new_blood"
   ]
  },
  {
   "cell_type": "code",
   "execution_count": null,
   "metadata": {},
   "outputs": [],
   "source": [
    "_ = plt.figure(figsize=(8, 8))\n",
    "\n",
    "g = sns.catplot(\n",
    "    data=new_blood, kind='bar',\n",
    "    x='bg', y='freq', hue='sex',\n",
    "    ci='sd', alpha=1, height=6\n",
    ")\n",
    "\n",
    "g.set_axis_labels('Blood group', 'Frequency')\n",
    "plt.show()"
   ]
  },
  {
   "cell_type": "markdown",
   "metadata": {},
   "source": [
    "## Stacked barcharts"
   ]
  },
  {
   "cell_type": "code",
   "execution_count": null,
   "metadata": {},
   "outputs": [],
   "source": [
    "_ = plt.figure(figsize=(8, 8))\n",
    "\n",
    "barWidth = 0.8\n",
    "x = np.linspace(1, 4, 4)\n",
    "\n",
    "plt.bar(x, blood.values[0, :], edgecolor='white', width=barWidth)\n",
    "plt.bar(x, blood.values[1, :], bottom=blood.values[0, :],\n",
    "        edgecolor='white', width=barWidth)\n",
    "\n",
    "plt.xticks(x, ['A', 'B', 'AB', '0'])\n",
    "plt.xlabel('Blood group')\n",
    "plt.ylabel('Frequencies')\n",
    "\n",
    "plt.show()"
   ]
  },
  {
   "cell_type": "code",
   "execution_count": null,
   "metadata": {},
   "outputs": [],
   "source": []
  }
 ],
 "metadata": {
  "hide_input": false,
  "kernelspec": {
   "display_name": "Python 3 (ipykernel)",
   "language": "python",
   "name": "python3"
  },
  "language_info": {
   "codemirror_mode": {
    "name": "ipython",
    "version": 3
   },
   "file_extension": ".py",
   "mimetype": "text/x-python",
   "name": "python",
   "nbconvert_exporter": "python",
   "pygments_lexer": "ipython3",
   "version": "3.8.13"
  }
 },
 "nbformat": 4,
 "nbformat_minor": 4
}
