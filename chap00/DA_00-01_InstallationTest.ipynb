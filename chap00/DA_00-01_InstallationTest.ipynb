{
 "cells": [
  {
   "cell_type": "markdown",
   "metadata": {},
   "source": [
    "# Installation Test"
   ]
  },
  {
   "cell_type": "markdown",
   "metadata": {},
   "source": [
    "<span style=\"color:red\">\n",
    "For users of the Jupyter-Hub, all relevant libraries are preinstalled! You can skip the installation instructions. There is no need to run the installation test, but it might be of interest for you to look at the version numbers of the installed libraries.\n",
    "</span>"
   ]
  },
  {
   "cell_type": "code",
   "execution_count": 1,
   "metadata": {},
   "outputs": [
    {
     "name": "stdout",
     "output_type": "stream",
     "text": [
      "Requirement already satisfied: opencv-python in c:\\users\\.shivanandappa\\anaconda3\\lib\\site-packages (4.6.0.66)\n",
      "Requirement already satisfied: numpy>=1.14.5 in c:\\users\\.shivanandappa\\anaconda3\\lib\\site-packages (from opencv-python) (1.21.5)\n",
      "Note: you may need to restart the kernel to use updated packages.\n"
     ]
    }
   ],
   "source": [
    "#pip install opencv-python"
   ]
  },
  {
   "cell_type": "code",
   "execution_count": 2,
   "metadata": {},
   "outputs": [
    {
     "name": "stdout",
     "output_type": "stream",
     "text": [
      "Requirement already satisfied: jupyter in c:\\users\\.shivanandappa\\anaconda3\\lib\\site-packages (1.0.0)\n",
      "Requirement already satisfied: notebook in c:\\users\\.shivanandappa\\anaconda3\\lib\\site-packages (6.4.8)\n",
      "Requirement already satisfied: pywin32 in c:\\users\\.shivanandappa\\anaconda3\\lib\\site-packages (302)\n",
      "Requirement already satisfied: jupyter-console in c:\\users\\.shivanandappa\\anaconda3\\lib\\site-packages (from jupyter) (6.4.0)\n",
      "Requirement already satisfied: ipykernel in c:\\users\\.shivanandappa\\anaconda3\\lib\\site-packages (from jupyter) (6.9.1)\n",
      "Requirement already satisfied: nbconvert in c:\\users\\.shivanandappa\\anaconda3\\lib\\site-packages (from jupyter) (6.4.4)\n",
      "Requirement already satisfied: ipywidgets in c:\\users\\.shivanandappa\\anaconda3\\lib\\site-packages (from jupyter) (7.6.5)\n",
      "Requirement already satisfied: qtconsole in c:\\users\\.shivanandappa\\anaconda3\\lib\\site-packages (from jupyter) (5.3.0)\n",
      "Requirement already satisfied: ipython-genutils in c:\\users\\.shivanandappa\\anaconda3\\lib\\site-packages (from notebook) (0.2.0)\n",
      "Requirement already satisfied: Send2Trash>=1.8.0 in c:\\users\\.shivanandappa\\anaconda3\\lib\\site-packages (from notebook) (1.8.0)\n",
      "Requirement already satisfied: terminado>=0.8.3 in c:\\users\\.shivanandappa\\anaconda3\\lib\\site-packages (from notebook) (0.13.1)\n",
      "Requirement already satisfied: jinja2 in c:\\users\\.shivanandappa\\anaconda3\\lib\\site-packages (from notebook) (2.11.3)\n",
      "Requirement already satisfied: prometheus-client in c:\\users\\.shivanandappa\\anaconda3\\lib\\site-packages (from notebook) (0.13.1)\n",
      "Requirement already satisfied: nest-asyncio>=1.5 in c:\\users\\.shivanandappa\\anaconda3\\lib\\site-packages (from notebook) (1.5.5)\n",
      "Requirement already satisfied: tornado>=6.1 in c:\\users\\.shivanandappa\\anaconda3\\lib\\site-packages (from notebook) (6.1)\n",
      "Requirement already satisfied: nbformat in c:\\users\\.shivanandappa\\anaconda3\\lib\\site-packages (from notebook) (5.3.0)\n",
      "Requirement already satisfied: argon2-cffi in c:\\users\\.shivanandappa\\anaconda3\\lib\\site-packages (from notebook) (21.3.0)\n",
      "Requirement already satisfied: traitlets>=4.2.1 in c:\\users\\.shivanandappa\\anaconda3\\lib\\site-packages (from notebook) (5.1.1)\n",
      "Requirement already satisfied: jupyter-core>=4.6.1 in c:\\users\\.shivanandappa\\anaconda3\\lib\\site-packages (from notebook) (4.9.2)\n",
      "Requirement already satisfied: pyzmq>=17 in c:\\users\\.shivanandappa\\anaconda3\\lib\\site-packages (from notebook) (22.3.0)\n",
      "Requirement already satisfied: jupyter-client>=5.3.4 in c:\\users\\.shivanandappa\\anaconda3\\lib\\site-packages (from notebook) (6.1.12)\n",
      "Requirement already satisfied: python-dateutil>=2.1 in c:\\users\\.shivanandappa\\anaconda3\\lib\\site-packages (from jupyter-client>=5.3.4->notebook) (2.8.2)\n",
      "Requirement already satisfied: six>=1.5 in c:\\users\\.shivanandappa\\anaconda3\\lib\\site-packages (from python-dateutil>=2.1->jupyter-client>=5.3.4->notebook) (1.16.0)\n",
      "Requirement already satisfied: pywinpty>=1.1.0 in c:\\users\\.shivanandappa\\anaconda3\\lib\\site-packages (from terminado>=0.8.3->notebook) (2.0.2)\n",
      "Requirement already satisfied: argon2-cffi-bindings in c:\\users\\.shivanandappa\\anaconda3\\lib\\site-packages (from argon2-cffi->notebook) (21.2.0)\n",
      "Requirement already satisfied: cffi>=1.0.1 in c:\\users\\.shivanandappa\\anaconda3\\lib\\site-packages (from argon2-cffi-bindings->argon2-cffi->notebook) (1.15.0)\n",
      "Requirement already satisfied: pycparser in c:\\users\\.shivanandappa\\anaconda3\\lib\\site-packages (from cffi>=1.0.1->argon2-cffi-bindings->argon2-cffi->notebook) (2.21)\n",
      "Requirement already satisfied: matplotlib-inline<0.2.0,>=0.1.0 in c:\\users\\.shivanandappa\\anaconda3\\lib\\site-packages (from ipykernel->jupyter) (0.1.2)\n",
      "Requirement already satisfied: debugpy<2.0,>=1.0.0 in c:\\users\\.shivanandappa\\anaconda3\\lib\\site-packages (from ipykernel->jupyter) (1.5.1)\n",
      "Requirement already satisfied: ipython>=7.23.1 in c:\\users\\.shivanandappa\\anaconda3\\lib\\site-packages (from ipykernel->jupyter) (8.2.0)\n",
      "Requirement already satisfied: backcall in c:\\users\\.shivanandappa\\anaconda3\\lib\\site-packages (from ipython>=7.23.1->ipykernel->jupyter) (0.2.0)\n",
      "Requirement already satisfied: colorama in c:\\users\\.shivanandappa\\anaconda3\\lib\\site-packages (from ipython>=7.23.1->ipykernel->jupyter) (0.4.4)\n",
      "Requirement already satisfied: pygments>=2.4.0 in c:\\users\\.shivanandappa\\anaconda3\\lib\\site-packages (from ipython>=7.23.1->ipykernel->jupyter) (2.11.2)\n",
      "Requirement already satisfied: jedi>=0.16 in c:\\users\\.shivanandappa\\anaconda3\\lib\\site-packages (from ipython>=7.23.1->ipykernel->jupyter) (0.18.1)\n",
      "Requirement already satisfied: decorator in c:\\users\\.shivanandappa\\anaconda3\\lib\\site-packages (from ipython>=7.23.1->ipykernel->jupyter) (5.1.1)\n",
      "Requirement already satisfied: stack-data in c:\\users\\.shivanandappa\\anaconda3\\lib\\site-packages (from ipython>=7.23.1->ipykernel->jupyter) (0.2.0)\n",
      "Requirement already satisfied: setuptools>=18.5 in c:\\users\\.shivanandappa\\anaconda3\\lib\\site-packages (from ipython>=7.23.1->ipykernel->jupyter) (61.2.0)\n",
      "Requirement already satisfied: pickleshare in c:\\users\\.shivanandappa\\anaconda3\\lib\\site-packages (from ipython>=7.23.1->ipykernel->jupyter) (0.7.5)\n",
      "Requirement already satisfied: prompt-toolkit!=3.0.0,!=3.0.1,<3.1.0,>=2.0.0 in c:\\users\\.shivanandappa\\anaconda3\\lib\\site-packages (from ipython>=7.23.1->ipykernel->jupyter) (3.0.20)\n",
      "Requirement already satisfied: parso<0.9.0,>=0.8.0 in c:\\users\\.shivanandappa\\anaconda3\\lib\\site-packages (from jedi>=0.16->ipython>=7.23.1->ipykernel->jupyter) (0.8.3)\n",
      "Requirement already satisfied: wcwidth in c:\\users\\.shivanandappa\\anaconda3\\lib\\site-packages (from prompt-toolkit!=3.0.0,!=3.0.1,<3.1.0,>=2.0.0->ipython>=7.23.1->ipykernel->jupyter) (0.2.5)\n",
      "Requirement already satisfied: widgetsnbextension~=3.5.0 in c:\\users\\.shivanandappa\\anaconda3\\lib\\site-packages (from ipywidgets->jupyter) (3.5.2)\n",
      "Requirement already satisfied: jupyterlab-widgets>=1.0.0 in c:\\users\\.shivanandappa\\anaconda3\\lib\\site-packages (from ipywidgets->jupyter) (1.0.0)\n",
      "Requirement already satisfied: fastjsonschema in c:\\users\\.shivanandappa\\anaconda3\\lib\\site-packages (from nbformat->notebook) (2.15.1)Note: you may need to restart the kernel to use updated packages.\n",
      "\n",
      "Requirement already satisfied: jsonschema>=2.6 in c:\\users\\.shivanandappa\\anaconda3\\lib\\site-packages (from nbformat->notebook) (4.4.0)\n",
      "Requirement already satisfied: pyrsistent!=0.17.0,!=0.17.1,!=0.17.2,>=0.14.0 in c:\\users\\.shivanandappa\\anaconda3\\lib\\site-packages (from jsonschema>=2.6->nbformat->notebook) (0.18.0)\n",
      "Requirement already satisfied: attrs>=17.4.0 in c:\\users\\.shivanandappa\\anaconda3\\lib\\site-packages (from jsonschema>=2.6->nbformat->notebook) (21.4.0)\n",
      "Requirement already satisfied: MarkupSafe>=0.23 in c:\\users\\.shivanandappa\\anaconda3\\lib\\site-packages (from jinja2->notebook) (2.0.1)\n",
      "Requirement already satisfied: mistune<2,>=0.8.1 in c:\\users\\.shivanandappa\\anaconda3\\lib\\site-packages (from nbconvert->jupyter) (0.8.4)\n",
      "Requirement already satisfied: entrypoints>=0.2.2 in c:\\users\\.shivanandappa\\anaconda3\\lib\\site-packages (from nbconvert->jupyter) (0.4)\n",
      "Requirement already satisfied: pandocfilters>=1.4.1 in c:\\users\\.shivanandappa\\anaconda3\\lib\\site-packages (from nbconvert->jupyter) (1.5.0)\n",
      "Requirement already satisfied: defusedxml in c:\\users\\.shivanandappa\\anaconda3\\lib\\site-packages (from nbconvert->jupyter) (0.7.1)\n",
      "Requirement already satisfied: testpath in c:\\users\\.shivanandappa\\anaconda3\\lib\\site-packages (from nbconvert->jupyter) (0.5.0)\n",
      "Requirement already satisfied: nbclient<0.6.0,>=0.5.0 in c:\\users\\.shivanandappa\\anaconda3\\lib\\site-packages (from nbconvert->jupyter) (0.5.13)\n",
      "Requirement already satisfied: beautifulsoup4 in c:\\users\\.shivanandappa\\anaconda3\\lib\\site-packages (from nbconvert->jupyter) (4.11.1)\n",
      "Requirement already satisfied: bleach in c:\\users\\.shivanandappa\\anaconda3\\lib\\site-packages (from nbconvert->jupyter) (4.1.0)\n",
      "Requirement already satisfied: jupyterlab-pygments in c:\\users\\.shivanandappa\\anaconda3\\lib\\site-packages (from nbconvert->jupyter) (0.1.2)\n",
      "Requirement already satisfied: soupsieve>1.2 in c:\\users\\.shivanandappa\\anaconda3\\lib\\site-packages (from beautifulsoup4->nbconvert->jupyter) (2.3.1)\n",
      "Requirement already satisfied: webencodings in c:\\users\\.shivanandappa\\anaconda3\\lib\\site-packages (from bleach->nbconvert->jupyter) (0.5.1)\n",
      "Requirement already satisfied: packaging in c:\\users\\.shivanandappa\\anaconda3\\lib\\site-packages (from bleach->nbconvert->jupyter) (21.3)\n",
      "Requirement already satisfied: pyparsing!=3.0.5,>=2.0.2 in c:\\users\\.shivanandappa\\anaconda3\\lib\\site-packages (from packaging->bleach->nbconvert->jupyter) (3.0.4)\n",
      "Requirement already satisfied: qtpy>=2.0.1 in c:\\users\\.shivanandappa\\anaconda3\\lib\\site-packages (from qtconsole->jupyter) (2.0.1)\n",
      "Requirement already satisfied: pure-eval in c:\\users\\.shivanandappa\\anaconda3\\lib\\site-packages (from stack-data->ipython>=7.23.1->ipykernel->jupyter) (0.2.2)\n",
      "Requirement already satisfied: executing in c:\\users\\.shivanandappa\\anaconda3\\lib\\site-packages (from stack-data->ipython>=7.23.1->ipykernel->jupyter) (0.8.3)\n",
      "Requirement already satisfied: asttokens in c:\\users\\.shivanandappa\\anaconda3\\lib\\site-packages (from stack-data->ipython>=7.23.1->ipykernel->jupyter) (2.0.5)\n"
     ]
    }
   ],
   "source": [
    "#pip install jupyter notebook pywin32"
   ]
  },
  {
   "cell_type": "code",
   "execution_count": 3,
   "metadata": {},
   "outputs": [
    {
     "name": "stdout",
     "output_type": "stream",
     "text": [
      "Collecting eli5\n",
      "  Downloading eli5-0.13.0.tar.gz (216 kB)\n",
      "Requirement already satisfied: attrs>17.1.0 in c:\\users\\.shivanandappa\\anaconda3\\lib\\site-packages (from eli5) (21.4.0)\n",
      "Collecting jinja2>=3.0.0\n",
      "  Downloading Jinja2-3.1.2-py3-none-any.whl (133 kB)\n",
      "Requirement already satisfied: numpy>=1.9.0 in c:\\users\\.shivanandappa\\anaconda3\\lib\\site-packages (from eli5) (1.21.5)\n",
      "Requirement already satisfied: scipy in c:\\users\\.shivanandappa\\anaconda3\\lib\\site-packages (from eli5) (1.7.3)\n",
      "Requirement already satisfied: six in c:\\users\\.shivanandappa\\anaconda3\\lib\\site-packages (from eli5) (1.16.0)\n",
      "Requirement already satisfied: scikit-learn>=0.20 in c:\\users\\.shivanandappa\\anaconda3\\lib\\site-packages (from eli5) (1.0.2)\n",
      "Collecting graphviz\n",
      "  Downloading graphviz-0.20.1-py3-none-any.whl (47 kB)\n",
      "Requirement already satisfied: tabulate>=0.7.7 in c:\\users\\.shivanandappa\\anaconda3\\lib\\site-packages (from eli5) (0.8.9)\n",
      "Requirement already satisfied: MarkupSafe>=2.0 in c:\\users\\.shivanandappa\\anaconda3\\lib\\site-packages (from jinja2>=3.0.0->eli5) (2.0.1)\n",
      "Requirement already satisfied: joblib>=0.11 in c:\\users\\.shivanandappa\\anaconda3\\lib\\site-packages (from scikit-learn>=0.20->eli5) (1.1.0)\n",
      "Requirement already satisfied: threadpoolctl>=2.0.0 in c:\\users\\.shivanandappa\\anaconda3\\lib\\site-packages (from scikit-learn>=0.20->eli5) (2.2.0)\n",
      "Building wheels for collected packages: eli5\n",
      "  Building wheel for eli5 (setup.py): started\n",
      "  Building wheel for eli5 (setup.py): finished with status 'done'\n",
      "  Created wheel for eli5: filename=eli5-0.13.0-py2.py3-none-any.whl size=107748 sha256=a36770789f9085f80517093e9f4def0feff4a6780b22fe956fe842eb18b35a3e\n",
      "  Stored in directory: c:\\users\\.shivanandappa\\appdata\\local\\pip\\cache\\wheels\\7b\\26\\a5\\8460416695a992a2966b41caa5338e5e7fcea98c9d032d055c\n",
      "Successfully built eli5\n",
      "Installing collected packages: jinja2, graphviz, eli5\n",
      "  Attempting uninstall: jinja2\n",
      "    Found existing installation: Jinja2 2.11.3\n",
      "    Uninstalling Jinja2-2.11.3:\n",
      "      Successfully uninstalled Jinja2-2.11.3\n",
      "Successfully installed eli5-0.13.0 graphviz-0.20.1 jinja2-3.1.2\n",
      "Note: you may need to restart the kernel to use updated packages.\n"
     ]
    },
    {
     "name": "stderr",
     "output_type": "stream",
     "text": [
      "ERROR: pip's dependency resolver does not currently take into account all the packages that are installed. This behaviour is the source of the following dependency conflicts.\n",
      "anaconda-project 0.10.2 requires ruamel-yaml, which is not installed.\n",
      "jupyter-server 1.13.5 requires pywinpty<2; os_name == \"nt\", but you have pywinpty 2.0.2 which is incompatible.\n"
     ]
    }
   ],
   "source": [
    "#pip install eli5"
   ]
  },
  {
   "cell_type": "code",
   "execution_count": 4,
   "metadata": {},
   "outputs": [
    {
     "name": "stdout",
     "output_type": "stream",
     "text": [
      "Collecting explainerdashboard\n",
      "  Downloading explainerdashboard-0.4.0-py3-none-any.whl (279 kB)\n",
      "Collecting dash-auth\n",
      "  Downloading dash_auth-1.4.1.tar.gz (470 kB)\n",
      "Collecting dtreeviz>=1.3\n",
      "  Downloading dtreeviz-1.3.7.tar.gz (62 kB)\n",
      "Collecting scikit-learn>=1.1\n",
      "  Downloading scikit_learn-1.1.2-cp39-cp39-win_amd64.whl (7.4 MB)\n",
      "Collecting shap>=0.37\n",
      "  Downloading shap-0.41.0-cp39-cp39-win_amd64.whl (435 kB)\n",
      "Collecting jupyter-dash\n",
      "  Downloading jupyter_dash-0.4.2-py3-none-any.whl (23 kB)\n",
      "Collecting oyaml\n",
      "  Downloading oyaml-1.0-py2.py3-none-any.whl (3.0 kB)\n",
      "Requirement already satisfied: numpy in c:\\users\\.shivanandappa\\anaconda3\\lib\\site-packages (from explainerdashboard) (1.21.5)\n",
      "Collecting waitress\n",
      "  Downloading waitress-2.1.2-py3-none-any.whl (57 kB)\n",
      "Collecting flask-simplelogin\n",
      "  Downloading flask_simplelogin-0.1.1-py3-none-any.whl (7.2 kB)\n",
      "Requirement already satisfied: click in c:\\users\\.shivanandappa\\anaconda3\\lib\\site-packages (from explainerdashboard) (8.0.4)\n",
      "Requirement already satisfied: graphviz>=0.18.2 in c:\\users\\.shivanandappa\\anaconda3\\lib\\site-packages (from explainerdashboard) (0.20.1)\n",
      "Collecting dash>=2.3.1\n",
      "  Downloading dash-2.6.2-py3-none-any.whl (9.8 MB)\n",
      "Requirement already satisfied: joblib in c:\\users\\.shivanandappa\\anaconda3\\lib\\site-packages (from explainerdashboard) (1.1.0)\n",
      "Collecting dash-bootstrap-components>=1\n",
      "  Downloading dash_bootstrap_components-1.2.1-py3-none-any.whl (216 kB)\n",
      "Requirement already satisfied: pandas>=1.1 in c:\\users\\.shivanandappa\\anaconda3\\lib\\site-packages (from explainerdashboard) (1.4.2)\n",
      "Requirement already satisfied: Flask>=1.0.4 in c:\\users\\.shivanandappa\\anaconda3\\lib\\site-packages (from dash>=2.3.1->explainerdashboard) (1.1.2)\n",
      "Collecting flask-compress\n",
      "  Downloading Flask_Compress-1.13-py3-none-any.whl (7.9 kB)\n",
      "Collecting dash-table==5.0.0\n",
      "  Downloading dash_table-5.0.0-py3-none-any.whl (3.9 kB)\n",
      "Requirement already satisfied: plotly>=5.0.0 in c:\\users\\.shivanandappa\\anaconda3\\lib\\site-packages (from dash>=2.3.1->explainerdashboard) (5.6.0)\n",
      "Collecting dash-core-components==2.0.0\n",
      "  Downloading dash_core_components-2.0.0-py3-none-any.whl (3.8 kB)\n",
      "Collecting dash-html-components==2.0.0\n",
      "  Downloading dash_html_components-2.0.0-py3-none-any.whl (4.1 kB)\n",
      "Requirement already satisfied: matplotlib in c:\\users\\.shivanandappa\\anaconda3\\lib\\site-packages (from dtreeviz>=1.3->explainerdashboard) (3.5.1)\n",
      "Collecting colour\n",
      "  Downloading colour-0.1.5-py2.py3-none-any.whl (23 kB)\n",
      "Requirement already satisfied: pytest in c:\\users\\.shivanandappa\\anaconda3\\lib\\site-packages (from dtreeviz>=1.3->explainerdashboard) (7.1.1)\n",
      "Requirement already satisfied: itsdangerous>=0.24 in c:\\users\\.shivanandappa\\anaconda3\\lib\\site-packages (from Flask>=1.0.4->dash>=2.3.1->explainerdashboard) (2.0.1)\n",
      "Requirement already satisfied: Werkzeug>=0.15 in c:\\users\\.shivanandappa\\anaconda3\\lib\\site-packages (from Flask>=1.0.4->dash>=2.3.1->explainerdashboard) (2.0.3)\n",
      "Requirement already satisfied: Jinja2>=2.10.1 in c:\\users\\.shivanandappa\\anaconda3\\lib\\site-packages (from Flask>=1.0.4->dash>=2.3.1->explainerdashboard) (3.1.2)\n",
      "Requirement already satisfied: colorama in c:\\users\\.shivanandappa\\anaconda3\\lib\\site-packages (from click->explainerdashboard) (0.4.4)\n",
      "Requirement already satisfied: MarkupSafe>=2.0 in c:\\users\\.shivanandappa\\anaconda3\\lib\\site-packages (from Jinja2>=2.10.1->Flask>=1.0.4->dash>=2.3.1->explainerdashboard) (2.0.1)\n",
      "Requirement already satisfied: pytz>=2020.1 in c:\\users\\.shivanandappa\\anaconda3\\lib\\site-packages (from pandas>=1.1->explainerdashboard) (2021.3)\n",
      "Requirement already satisfied: python-dateutil>=2.8.1 in c:\\users\\.shivanandappa\\anaconda3\\lib\\site-packages (from pandas>=1.1->explainerdashboard) (2.8.2)\n",
      "Requirement already satisfied: tenacity>=6.2.0 in c:\\users\\.shivanandappa\\anaconda3\\lib\\site-packages (from plotly>=5.0.0->dash>=2.3.1->explainerdashboard) (8.0.1)\n",
      "Requirement already satisfied: six in c:\\users\\.shivanandappa\\anaconda3\\lib\\site-packages (from plotly>=5.0.0->dash>=2.3.1->explainerdashboard) (1.16.0)\n",
      "Requirement already satisfied: threadpoolctl>=2.0.0 in c:\\users\\.shivanandappa\\anaconda3\\lib\\site-packages (from scikit-learn>=1.1->explainerdashboard) (2.2.0)\n",
      "Requirement already satisfied: scipy>=1.3.2 in c:\\users\\.shivanandappa\\anaconda3\\lib\\site-packages (from scikit-learn>=1.1->explainerdashboard) (1.7.3)\n",
      "Requirement already satisfied: tqdm>4.25.0 in c:\\users\\.shivanandappa\\anaconda3\\lib\\site-packages (from shap>=0.37->explainerdashboard) (4.64.0)\n",
      "Collecting slicer==0.0.7\n",
      "  Downloading slicer-0.0.7-py3-none-any.whl (14 kB)\n",
      "Requirement already satisfied: packaging>20.9 in c:\\users\\.shivanandappa\\anaconda3\\lib\\site-packages (from shap>=0.37->explainerdashboard) (21.3)\n",
      "Requirement already satisfied: cloudpickle in c:\\users\\.shivanandappa\\anaconda3\\lib\\site-packages (from shap>=0.37->explainerdashboard) (2.0.0)\n",
      "Requirement already satisfied: numba in c:\\users\\.shivanandappa\\anaconda3\\lib\\site-packages (from shap>=0.37->explainerdashboard) (0.55.1)\n",
      "Requirement already satisfied: pyparsing!=3.0.5,>=2.0.2 in c:\\users\\.shivanandappa\\anaconda3\\lib\\site-packages (from packaging>20.9->shap>=0.37->explainerdashboard) (3.0.4)\n",
      "Collecting chart_studio>=1.0.0\n",
      "  Downloading chart_studio-1.1.0-py3-none-any.whl (64 kB)\n",
      "Collecting flask-seasurf\n",
      "  Downloading Flask_SeaSurf-1.1.1-py3-none-any.whl (8.4 kB)\n",
      "Requirement already satisfied: requests in c:\\users\\.shivanandappa\\anaconda3\\lib\\site-packages (from dash-auth->explainerdashboard) (2.27.1)\n",
      "Collecting retrying\n",
      "  Downloading retrying-1.3.3.tar.gz (10 kB)\n",
      "Collecting ua_parser\n",
      "  Downloading ua_parser-0.16.1-py2.py3-none-any.whl (38 kB)\n",
      "Collecting brotli\n",
      "  Downloading Brotli-1.0.9-cp39-cp39-win_amd64.whl (383 kB)\n",
      "Collecting Flask-WTF<0.16.0,>=0.15.1\n",
      "  Downloading Flask_WTF-0.15.1-py2.py3-none-any.whl (13 kB)\n",
      "Collecting WTForms>=2.1\n",
      "  Downloading WTForms-3.0.1-py3-none-any.whl (136 kB)\n",
      "Note: you may need to restart the kernel to use updated packages.\n",
      "Requirement already satisfied: nest-asyncio in c:\\users\\.shivanandappa\\anaconda3\\lib\\site-packages (from jupyter-dash->explainerdashboard) (1.5.5)\n",
      "Collecting ansi2html\n",
      "  Downloading ansi2html-1.8.0-py3-none-any.whl (16 kB)\n",
      "Requirement already satisfied: ipykernel in c:\\users\\.shivanandappa\\anaconda3\\lib\\site-packages (from jupyter-dash->explainerdashboard) (6.9.1)\n",
      "Requirement already satisfied: ipython in c:\\users\\.shivanandappa\\anaconda3\\lib\\site-packages (from jupyter-dash->explainerdashboard) (8.2.0)\n",
      "Requirement already satisfied: matplotlib-inline<0.2.0,>=0.1.0 in c:\\users\\.shivanandappa\\anaconda3\\lib\\site-packages (from ipykernel->jupyter-dash->explainerdashboard) (0.1.2)\n",
      "Requirement already satisfied: traitlets<6.0,>=5.1.0 in c:\\users\\.shivanandappa\\anaconda3\\lib\\site-packages (from ipykernel->jupyter-dash->explainerdashboard) (5.1.1)\n",
      "Requirement already satisfied: debugpy<2.0,>=1.0.0 in c:\\users\\.shivanandappa\\anaconda3\\lib\\site-packages (from ipykernel->jupyter-dash->explainerdashboard) (1.5.1)\n",
      "Requirement already satisfied: tornado<7.0,>=4.2 in c:\\users\\.shivanandappa\\anaconda3\\lib\\site-packages (from ipykernel->jupyter-dash->explainerdashboard) (6.1)\n",
      "Requirement already satisfied: jupyter-client<8.0 in c:\\users\\.shivanandappa\\anaconda3\\lib\\site-packages (from ipykernel->jupyter-dash->explainerdashboard) (6.1.12)\n",
      "Requirement already satisfied: prompt-toolkit!=3.0.0,!=3.0.1,<3.1.0,>=2.0.0 in c:\\users\\.shivanandappa\\anaconda3\\lib\\site-packages (from ipython->jupyter-dash->explainerdashboard) (3.0.20)\n",
      "Requirement already satisfied: decorator in c:\\users\\.shivanandappa\\anaconda3\\lib\\site-packages (from ipython->jupyter-dash->explainerdashboard) (5.1.1)\n",
      "Requirement already satisfied: backcall in c:\\users\\.shivanandappa\\anaconda3\\lib\\site-packages (from ipython->jupyter-dash->explainerdashboard) (0.2.0)\n",
      "Requirement already satisfied: pickleshare in c:\\users\\.shivanandappa\\anaconda3\\lib\\site-packages (from ipython->jupyter-dash->explainerdashboard) (0.7.5)\n",
      "Requirement already satisfied: jedi>=0.16 in c:\\users\\.shivanandappa\\anaconda3\\lib\\site-packages (from ipython->jupyter-dash->explainerdashboard) (0.18.1)\n",
      "Requirement already satisfied: pygments>=2.4.0 in c:\\users\\.shivanandappa\\anaconda3\\lib\\site-packages (from ipython->jupyter-dash->explainerdashboard) (2.11.2)\n",
      "Requirement already satisfied: stack-data in c:\\users\\.shivanandappa\\anaconda3\\lib\\site-packages (from ipython->jupyter-dash->explainerdashboard) (0.2.0)\n",
      "Requirement already satisfied: setuptools>=18.5 in c:\\users\\.shivanandappa\\anaconda3\\lib\\site-packages (from ipython->jupyter-dash->explainerdashboard) (61.2.0)\n",
      "Requirement already satisfied: parso<0.9.0,>=0.8.0 in c:\\users\\.shivanandappa\\anaconda3\\lib\\site-packages (from jedi>=0.16->ipython->jupyter-dash->explainerdashboard) (0.8.3)\n",
      "Requirement already satisfied: pyzmq>=13 in c:\\users\\.shivanandappa\\anaconda3\\lib\\site-packages (from jupyter-client<8.0->ipykernel->jupyter-dash->explainerdashboard) (22.3.0)\n",
      "Requirement already satisfied: jupyter-core>=4.6.0 in c:\\users\\.shivanandappa\\anaconda3\\lib\\site-packages (from jupyter-client<8.0->ipykernel->jupyter-dash->explainerdashboard) (4.9.2)\n",
      "Requirement already satisfied: pywin32>=1.0 in c:\\users\\.shivanandappa\\anaconda3\\lib\\site-packages (from jupyter-core>=4.6.0->jupyter-client<8.0->ipykernel->jupyter-dash->explainerdashboard) (302)\n",
      "Requirement already satisfied: wcwidth in c:\\users\\.shivanandappa\\anaconda3\\lib\\site-packages (from prompt-toolkit!=3.0.0,!=3.0.1,<3.1.0,>=2.0.0->ipython->jupyter-dash->explainerdashboard) (0.2.5)\n",
      "Requirement already satisfied: cycler>=0.10 in c:\\users\\.shivanandappa\\anaconda3\\lib\\site-packages (from matplotlib->dtreeviz>=1.3->explainerdashboard) (0.11.0)\n",
      "Requirement already satisfied: kiwisolver>=1.0.1 in c:\\users\\.shivanandappa\\anaconda3\\lib\\site-packages (from matplotlib->dtreeviz>=1.3->explainerdashboard) (1.3.2)\n",
      "Requirement already satisfied: fonttools>=4.22.0 in c:\\users\\.shivanandappa\\anaconda3\\lib\\site-packages (from matplotlib->dtreeviz>=1.3->explainerdashboard) (4.25.0)\n",
      "Requirement already satisfied: pillow>=6.2.0 in c:\\users\\.shivanandappa\\anaconda3\\lib\\site-packages (from matplotlib->dtreeviz>=1.3->explainerdashboard) (9.0.1)\n",
      "Requirement already satisfied: llvmlite<0.39,>=0.38.0rc1 in c:\\users\\.shivanandappa\\anaconda3\\lib\\site-packages (from numba->shap>=0.37->explainerdashboard) (0.38.0)\n",
      "Requirement already satisfied: pyyaml in c:\\users\\.shivanandappa\\anaconda3\\lib\\site-packages (from oyaml->explainerdashboard) (6.0)\n",
      "Requirement already satisfied: attrs>=19.2.0 in c:\\users\\.shivanandappa\\anaconda3\\lib\\site-packages (from pytest->dtreeviz>=1.3->explainerdashboard) (21.4.0)\n",
      "Requirement already satisfied: iniconfig in c:\\users\\.shivanandappa\\anaconda3\\lib\\site-packages (from pytest->dtreeviz>=1.3->explainerdashboard) (1.1.1)\n",
      "Requirement already satisfied: pluggy<2.0,>=0.12 in c:\\users\\.shivanandappa\\anaconda3\\lib\\site-packages (from pytest->dtreeviz>=1.3->explainerdashboard) (1.0.0)\n",
      "Requirement already satisfied: py>=1.8.2 in c:\\users\\.shivanandappa\\anaconda3\\lib\\site-packages (from pytest->dtreeviz>=1.3->explainerdashboard) (1.11.0)\n",
      "Requirement already satisfied: tomli>=1.0.0 in c:\\users\\.shivanandappa\\anaconda3\\lib\\site-packages (from pytest->dtreeviz>=1.3->explainerdashboard) (1.2.2)\n",
      "Requirement already satisfied: atomicwrites>=1.0 in c:\\users\\.shivanandappa\\anaconda3\\lib\\site-packages (from pytest->dtreeviz>=1.3->explainerdashboard) (1.4.0)\n",
      "Requirement already satisfied: idna<4,>=2.5 in c:\\users\\.shivanandappa\\anaconda3\\lib\\site-packages (from requests->dash-auth->explainerdashboard) (3.3)\n",
      "Requirement already satisfied: charset-normalizer~=2.0.0 in c:\\users\\.shivanandappa\\anaconda3\\lib\\site-packages (from requests->dash-auth->explainerdashboard) (2.0.4)\n",
      "Requirement already satisfied: urllib3<1.27,>=1.21.1 in c:\\users\\.shivanandappa\\anaconda3\\lib\\site-packages (from requests->dash-auth->explainerdashboard) (1.26.9)\n",
      "Requirement already satisfied: certifi>=2017.4.17 in c:\\users\\.shivanandappa\\anaconda3\\lib\\site-packages (from requests->dash-auth->explainerdashboard) (2021.10.8)\n",
      "Requirement already satisfied: pure-eval in c:\\users\\.shivanandappa\\anaconda3\\lib\\site-packages (from stack-data->ipython->jupyter-dash->explainerdashboard) (0.2.2)\n",
      "Requirement already satisfied: executing in c:\\users\\.shivanandappa\\anaconda3\\lib\\site-packages (from stack-data->ipython->jupyter-dash->explainerdashboard) (0.8.3)\n",
      "Requirement already satisfied: asttokens in c:\\users\\.shivanandappa\\anaconda3\\lib\\site-packages (from stack-data->ipython->jupyter-dash->explainerdashboard) (2.0.5)\n",
      "Building wheels for collected packages: dtreeviz, dash-auth, retrying\n",
      "  Building wheel for dtreeviz (setup.py): started\n",
      "  Building wheel for dtreeviz (setup.py): finished with status 'done'\n",
      "  Created wheel for dtreeviz: filename=dtreeviz-1.3.7-py3-none-any.whl size=68151 sha256=8c25351beee0d4f6c8d80319aad8e01e3ee5e9f85d183b2ad30287ed04c7c9c2\n",
      "  Stored in directory: c:\\users\\.shivanandappa\\appdata\\local\\pip\\cache\\wheels\\94\\4d\\ca\\df6b7427d49df660c50c351242463476c3f7935c359402e42b\n",
      "  Building wheel for dash-auth (setup.py): started\n",
      "  Building wheel for dash-auth (setup.py): finished with status 'done'\n",
      "  Created wheel for dash-auth: filename=dash_auth-1.4.1-py3-none-any.whl size=476152 sha256=673ef39849bb41b7ffa89ecca0997e14a619ca83b4ac9db952096f8de9e72eb4\n",
      "  Stored in directory: c:\\users\\.shivanandappa\\appdata\\local\\pip\\cache\\wheels\\e8\\57\\2b\\aba4cf993de295833eef8d0679fe5fb52b60b8efa1fa3808f4\n",
      "  Building wheel for retrying (setup.py): started\n",
      "  Building wheel for retrying (setup.py): finished with status 'done'\n",
      "  Created wheel for retrying: filename=retrying-1.3.3-py3-none-any.whl size=11447 sha256=e0d9d30c0f2596fa0b4c3800d21223cc38d79198c8cd24488c45260f5158b32b\n",
      "  Stored in directory: c:\\users\\.shivanandappa\\appdata\\local\\pip\\cache\\wheels\\ce\\18\\7f\\e9527e3e66db1456194ac7f61eb3211068c409edceecff2d31\n",
      "Successfully built dtreeviz dash-auth retrying\n",
      "Installing collected packages: brotli, WTForms, retrying, flask-compress, dash-table, dash-html-components, dash-core-components, ua-parser, slicer, scikit-learn, Flask-WTF, flask-seasurf, dash, colour, chart-studio, ansi2html, waitress, shap, oyaml, jupyter-dash, flask-simplelogin, dtreeviz, dash-bootstrap-components, dash-auth, explainerdashboard\n",
      "  Attempting uninstall: scikit-learn\n",
      "    Found existing installation: scikit-learn 1.0.2\n",
      "    Uninstalling scikit-learn-1.0.2:\n",
      "      Successfully uninstalled scikit-learn-1.0.2\n",
      "Successfully installed Flask-WTF-0.15.1 WTForms-3.0.1 ansi2html-1.8.0 brotli-1.0.9 chart-studio-1.1.0 colour-0.1.5 dash-2.6.2 dash-auth-1.4.1 dash-bootstrap-components-1.2.1 dash-core-components-2.0.0 dash-html-components-2.0.0 dash-table-5.0.0 dtreeviz-1.3.7 explainerdashboard-0.4.0 flask-compress-1.13 flask-seasurf-1.1.1 flask-simplelogin-0.1.1 jupyter-dash-0.4.2 oyaml-1.0 retrying-1.3.3 scikit-learn-1.1.2 shap-0.41.0 slicer-0.0.7 ua-parser-0.16.1 waitress-2.1.2\n"
     ]
    }
   ],
   "source": [
    "#pip install explainerdashboard"
   ]
  },
  {
   "cell_type": "code",
   "execution_count": 5,
   "metadata": {},
   "outputs": [
    {
     "name": "stdout",
     "output_type": "stream",
     "text": [
      "Collecting pandas_profiling\n",
      "  Downloading pandas_profiling-3.3.0-py2.py3-none-any.whl (268 kB)\n",
      "Requirement already satisfied: scipy<1.10,>=1.4.1 in c:\\users\\.shivanandappa\\anaconda3\\lib\\site-packages (from pandas_profiling) (1.7.3)\n",
      "Requirement already satisfied: joblib~=1.1.0 in c:\\users\\.shivanandappa\\anaconda3\\lib\\site-packages (from pandas_profiling) (1.1.0)\n",
      "Collecting visions[type_image_path]==0.7.5\n",
      "  Downloading visions-0.7.5-py3-none-any.whl (102 kB)\n",
      "Collecting htmlmin==0.1.12\n",
      "  Downloading htmlmin-0.1.12.tar.gz (19 kB)\n",
      "Collecting missingno<0.6,>=0.4.2\n",
      "  Downloading missingno-0.5.1-py3-none-any.whl (8.7 kB)\n",
      "Requirement already satisfied: statsmodels<0.14,>=0.13.2 in c:\\users\\.shivanandappa\\anaconda3\\lib\\site-packages (from pandas_profiling) (0.13.2)\n",
      "Requirement already satisfied: tqdm<4.65,>=4.48.2 in c:\\users\\.shivanandappa\\anaconda3\\lib\\site-packages (from pandas_profiling) (4.64.0)\n",
      "Collecting multimethod<1.9,>=1.4\n",
      "  Downloading multimethod-1.8-py3-none-any.whl (9.8 kB)\n",
      "Requirement already satisfied: requests<2.29,>=2.24.0 in c:\\users\\.shivanandappa\\anaconda3\\lib\\site-packages (from pandas_profiling) (2.27.1)\n",
      "Collecting pydantic<1.10,>=1.8.1\n",
      "  Downloading pydantic-1.9.2-cp39-cp39-win_amd64.whl (2.0 MB)\n",
      "Requirement already satisfied: seaborn<0.12,>=0.10.1 in c:\\users\\.shivanandappa\\anaconda3\\lib\\site-packages (from pandas_profiling) (0.11.2)\n",
      "Collecting tangled-up-in-unicode==0.2.0\n",
      "  Downloading tangled_up_in_unicode-0.2.0-py3-none-any.whl (4.7 MB)\n",
      "Requirement already satisfied: matplotlib<3.6,>=3.2 in c:\\users\\.shivanandappa\\anaconda3\\lib\\site-packages (from pandas_profiling) (3.5.1)\n",
      "Requirement already satisfied: pandas!=1.4.0,<1.5,>1.1 in c:\\users\\.shivanandappa\\anaconda3\\lib\\site-packages (from pandas_profiling) (1.4.2)\n",
      "Requirement already satisfied: numpy<1.24,>=1.16.0 in c:\\users\\.shivanandappa\\anaconda3\\lib\\site-packages (from pandas_profiling) (1.21.5)\n",
      "Collecting phik<0.13,>=0.11.1Note: you may need to restart the kernel to use updated packages.\n"
     ]
    },
    {
     "name": "stderr",
     "output_type": "stream",
     "text": [
      "  WARNING: The script phik_trial.exe is installed in 'C:\\Users\\.Shivanandappa\\AppData\\Roaming\\Python\\Python39\\Scripts' which is not on PATH.\n",
      "  Consider adding this directory to PATH or, if you prefer to suppress this warning, use --no-warn-script-location.\n",
      "  WARNING: The script htmlmin.exe is installed in 'C:\\Users\\.Shivanandappa\\AppData\\Roaming\\Python\\Python39\\Scripts' which is not on PATH.\n",
      "  Consider adding this directory to PATH or, if you prefer to suppress this warning, use --no-warn-script-location.\n",
      "  WARNING: The script pandas_profiling.exe is installed in 'C:\\Users\\.Shivanandappa\\AppData\\Roaming\\Python\\Python39\\Scripts' which is not on PATH.\n",
      "  Consider adding this directory to PATH or, if you prefer to suppress this warning, use --no-warn-script-location.\n"
     ]
    },
    {
     "name": "stdout",
     "output_type": "stream",
     "text": [
      "\n",
      "  Downloading phik-0.12.2-cp39-cp39-win_amd64.whl (685 kB)\n",
      "Requirement already satisfied: jinja2<3.2,>=2.11.1 in c:\\users\\.shivanandappa\\anaconda3\\lib\\site-packages (from pandas_profiling) (3.1.2)\n",
      "Requirement already satisfied: PyYAML<6.1,>=5.0.0 in c:\\users\\.shivanandappa\\anaconda3\\lib\\site-packages (from pandas_profiling) (6.0)\n",
      "Requirement already satisfied: attrs>=19.3.0 in c:\\users\\.shivanandappa\\anaconda3\\lib\\site-packages (from visions[type_image_path]==0.7.5->pandas_profiling) (21.4.0)\n",
      "Requirement already satisfied: networkx>=2.4 in c:\\users\\.shivanandappa\\anaconda3\\lib\\site-packages (from visions[type_image_path]==0.7.5->pandas_profiling) (2.7.1)\n",
      "Requirement already satisfied: Pillow in c:\\users\\.shivanandappa\\anaconda3\\lib\\site-packages (from visions[type_image_path]==0.7.5->pandas_profiling) (9.0.1)\n",
      "Collecting imagehash\n",
      "  Downloading ImageHash-4.3.1-py2.py3-none-any.whl (296 kB)\n",
      "Requirement already satisfied: MarkupSafe>=2.0 in c:\\users\\.shivanandappa\\anaconda3\\lib\\site-packages (from jinja2<3.2,>=2.11.1->pandas_profiling) (2.0.1)\n",
      "Requirement already satisfied: pyparsing>=2.2.1 in c:\\users\\.shivanandappa\\anaconda3\\lib\\site-packages (from matplotlib<3.6,>=3.2->pandas_profiling) (3.0.4)\n",
      "Requirement already satisfied: fonttools>=4.22.0 in c:\\users\\.shivanandappa\\anaconda3\\lib\\site-packages (from matplotlib<3.6,>=3.2->pandas_profiling) (4.25.0)\n",
      "Requirement already satisfied: kiwisolver>=1.0.1 in c:\\users\\.shivanandappa\\anaconda3\\lib\\site-packages (from matplotlib<3.6,>=3.2->pandas_profiling) (1.3.2)\n",
      "Requirement already satisfied: python-dateutil>=2.7 in c:\\users\\.shivanandappa\\anaconda3\\lib\\site-packages (from matplotlib<3.6,>=3.2->pandas_profiling) (2.8.2)\n",
      "Requirement already satisfied: packaging>=20.0 in c:\\users\\.shivanandappa\\anaconda3\\lib\\site-packages (from matplotlib<3.6,>=3.2->pandas_profiling) (21.3)\n",
      "Requirement already satisfied: cycler>=0.10 in c:\\users\\.shivanandappa\\anaconda3\\lib\\site-packages (from matplotlib<3.6,>=3.2->pandas_profiling) (0.11.0)\n",
      "Requirement already satisfied: pytz>=2020.1 in c:\\users\\.shivanandappa\\anaconda3\\lib\\site-packages (from pandas!=1.4.0,<1.5,>1.1->pandas_profiling) (2021.3)\n",
      "Requirement already satisfied: typing-extensions>=3.7.4.3 in c:\\users\\.shivanandappa\\anaconda3\\lib\\site-packages (from pydantic<1.10,>=1.8.1->pandas_profiling) (4.1.1)\n",
      "Requirement already satisfied: six>=1.5 in c:\\users\\.shivanandappa\\anaconda3\\lib\\site-packages (from python-dateutil>=2.7->matplotlib<3.6,>=3.2->pandas_profiling) (1.16.0)\n",
      "Requirement already satisfied: urllib3<1.27,>=1.21.1 in c:\\users\\.shivanandappa\\anaconda3\\lib\\site-packages (from requests<2.29,>=2.24.0->pandas_profiling) (1.26.9)\n",
      "Requirement already satisfied: idna<4,>=2.5 in c:\\users\\.shivanandappa\\anaconda3\\lib\\site-packages (from requests<2.29,>=2.24.0->pandas_profiling) (3.3)\n",
      "Requirement already satisfied: certifi>=2017.4.17 in c:\\users\\.shivanandappa\\anaconda3\\lib\\site-packages (from requests<2.29,>=2.24.0->pandas_profiling) (2021.10.8)\n",
      "Requirement already satisfied: charset-normalizer~=2.0.0 in c:\\users\\.shivanandappa\\anaconda3\\lib\\site-packages (from requests<2.29,>=2.24.0->pandas_profiling) (2.0.4)\n",
      "Requirement already satisfied: patsy>=0.5.2 in c:\\users\\.shivanandappa\\anaconda3\\lib\\site-packages (from statsmodels<0.14,>=0.13.2->pandas_profiling) (0.5.2)\n",
      "Requirement already satisfied: colorama in c:\\users\\.shivanandappa\\anaconda3\\lib\\site-packages (from tqdm<4.65,>=4.48.2->pandas_profiling) (0.4.4)\n",
      "Requirement already satisfied: PyWavelets in c:\\users\\.shivanandappa\\anaconda3\\lib\\site-packages (from imagehash->visions[type_image_path]==0.7.5->pandas_profiling) (1.3.0)\n",
      "Building wheels for collected packages: htmlmin\n",
      "  Building wheel for htmlmin (setup.py): started\n",
      "  Building wheel for htmlmin (setup.py): finished with status 'done'\n",
      "  Created wheel for htmlmin: filename=htmlmin-0.1.12-py3-none-any.whl size=27096 sha256=2ce49580f1a6d9a3f44f06b38f33e5363d3cd91b67e167eafe2dfe3d83bec970\n",
      "  Stored in directory: c:\\users\\.shivanandappa\\appdata\\local\\pip\\cache\\wheels\\1d\\05\\04\\c6d7d3b66539d9e659ac6dfe81e2d0fd4c1a8316cc5a403300\n",
      "Successfully built htmlmin\n",
      "Installing collected packages: tangled-up-in-unicode, multimethod, visions, imagehash, pydantic, phik, missingno, htmlmin, pandas-profiling\n",
      "Successfully installed htmlmin-0.1.12 imagehash-4.3.1 missingno-0.5.1 multimethod-1.8 pandas-profiling-3.3.0 phik-0.12.2 pydantic-1.9.2 tangled-up-in-unicode-0.2.0 visions-0.7.5\n"
     ]
    }
   ],
   "source": [
    "pip install --user pandas_profiling"
   ]
  },
  {
   "cell_type": "code",
   "execution_count": 6,
   "metadata": {},
   "outputs": [
    {
     "name": "stdout",
     "output_type": "stream",
     "text": [
      "Requirement already satisfied: pandas in c:\\users\\.shivanandappa\\anaconda3\\lib\\site-packages (1.4.2)\n",
      "Requirement already satisfied: seaborn in c:\\users\\.shivanandappa\\anaconda3\\lib\\site-packages (0.11.2)\n",
      "Requirement already satisfied: plotly in c:\\users\\.shivanandappa\\anaconda3\\lib\\site-packages (5.6.0)\n",
      "Collecting sklearn\n",
      "  Downloading sklearn-0.0.tar.gz (1.1 kB)\n",
      "Requirement already satisfied: statsmodels in c:\\users\\.shivanandappa\\anaconda3\\lib\\site-packages (0.13.2)\n",
      "Requirement already satisfied: IPython in c:\\users\\.shivanandappa\\anaconda3\\lib\\site-packages (8.2.0)\n",
      "Requirement already satisfied: numpy>=1.18.5 in c:\\users\\.shivanandappa\\anaconda3\\lib\\site-packages (from pandas) (1.21.5)\n",
      "Requirement already satisfied: pytz>=2020.1 in c:\\users\\.shivanandappa\\anaconda3\\lib\\site-packages (from pandas) (2021.3)\n",
      "Requirement already satisfied: python-dateutil>=2.8.1 in c:\\users\\.shivanandappa\\anaconda3\\lib\\site-packages (from pandas) (2.8.2)\n",
      "Requirement already satisfied: scipy>=1.0 in c:\\users\\.shivanandappa\\anaconda3\\lib\\site-packages (from seaborn) (1.7.3)\n",
      "Requirement already satisfied: matplotlib>=2.2 in c:\\users\\.shivanandappa\\anaconda3\\lib\\site-packages (from seaborn) (3.5.1)\n",
      "Requirement already satisfied: tenacity>=6.2.0 in c:\\users\\.shivanandappa\\anaconda3\\lib\\site-packages (from plotly) (8.0.1)\n",
      "Requirement already satisfied: six in c:\\users\\.shivanandappa\\anaconda3\\lib\\site-packages (from plotly) (1.16.0)\n",
      "Requirement already satisfied: scikit-learn in c:\\users\\.shivanandappa\\anaconda3\\lib\\site-packages (from sklearn) (1.1.2)\n",
      "Requirement already satisfied: patsy>=0.5.2 in c:\\users\\.shivanandappa\\anaconda3\\lib\\site-packages (from statsmodels) (0.5.2)\n",
      "Requirement already satisfied: packaging>=21.3 in c:\\users\\.shivanandappa\\anaconda3\\lib\\site-packages (from statsmodels) (21.3)\n",
      "Requirement already satisfied: decorator in c:\\users\\.shivanandappa\\anaconda3\\lib\\site-packages (from IPython) (5.1.1)\n",
      "Requirement already satisfied: backcall in c:\\users\\.shivanandappa\\anaconda3\\lib\\site-packages (from IPython) (0.2.0)\n",
      "Requirement already satisfied: matplotlib-inline in c:\\users\\.shivanandappa\\anaconda3\\lib\\site-packages (from IPython) (0.1.2)\n",
      "Requirement already satisfied: traitlets>=5 in c:\\users\\.shivanandappa\\anaconda3\\lib\\site-packages (from IPython) (5.1.1)\n",
      "Requirement already satisfied: stack-data in c:\\users\\.shivanandappa\\anaconda3\\lib\\site-packages (from IPython) (0.2.0)\n",
      "Requirement already satisfied: pickleshare in c:\\users\\.shivanandappa\\anaconda3\\lib\\site-packages (from IPython) (0.7.5)\n",
      "Requirement already satisfied: pygments>=2.4.0 in c:\\users\\.shivanandappa\\anaconda3\\lib\\site-packages (from IPython) (2.11.2)\n",
      "Requirement already satisfied: jedi>=0.16 in c:\\users\\.shivanandappa\\anaconda3\\lib\\site-packages (from IPython) (0.18.1)\n",
      "Requirement already satisfied: colorama in c:\\users\\.shivanandappa\\anaconda3\\lib\\site-packages (from IPython) (0.4.4)\n",
      "Requirement already satisfied: setuptools>=18.5 in c:\\users\\.shivanandappa\\anaconda3\\lib\\site-packages (from IPython) (61.2.0)\n",
      "Requirement already satisfied: prompt-toolkit!=3.0.0,!=3.0.1,<3.1.0,>=2.0.0 in c:\\users\\.shivanandappa\\anaconda3\\lib\\site-packages (from IPython) (3.0.20)\n",
      "Requirement already satisfied: parso<0.9.0,>=0.8.0 in c:\\users\\.shivanandappa\\anaconda3\\lib\\site-packages (from jedi>=0.16->IPython) (0.8.3)\n",
      "Requirement already satisfied: cycler>=0.10 in c:\\users\\.shivanandappa\\anaconda3\\lib\\site-packages (from matplotlib>=2.2->seaborn) (0.11.0)\n",
      "Requirement already satisfied: pyparsing>=2.2.1 in c:\\users\\.shivanandappa\\anaconda3\\lib\\site-packages (from matplotlib>=2.2->seaborn) (3.0.4)\n",
      "Requirement already satisfied: pillow>=6.2.0 in c:\\users\\.shivanandappa\\anaconda3\\lib\\site-packages (from matplotlib>=2.2->seaborn) (9.0.1)\n",
      "Requirement already satisfied: fonttools>=4.22.0 in c:\\users\\.shivanandappa\\anaconda3\\lib\\site-packages (from matplotlib>=2.2->seaborn) (4.25.0)\n",
      "Requirement already satisfied: kiwisolver>=1.0.1 in c:\\users\\.shivanandappa\\anaconda3\\lib\\site-packages (from matplotlib>=2.2->seaborn) (1.3.2)\n",
      "Requirement already satisfied: wcwidth in c:\\users\\.shivanandappa\\anaconda3\\lib\\site-packages (from prompt-toolkit!=3.0.0,!=3.0.1,<3.1.0,>=2.0.0->IPython) (0.2.5)\n",
      "Requirement already satisfied: threadpoolctl>=2.0.0 in c:\\users\\.shivanandappa\\anaconda3\\lib\\site-packages (from scikit-learn->sklearn) (2.2.0)\n",
      "Requirement already satisfied: joblib>=1.0.0 in c:\\users\\.shivanandappa\\anaconda3\\lib\\site-packages (from scikit-learn->sklearn) (1.1.0)\n",
      "Requirement already satisfied: asttokens in c:\\users\\.shivanandappa\\anaconda3\\lib\\site-packages (from stack-data->IPython) (2.0.5)\n",
      "Requirement already satisfied: pure-eval in c:\\users\\.shivanandappa\\anaconda3\\lib\\site-packages (from stack-data->IPython) (0.2.2)\n",
      "Requirement already satisfied: executing in c:\\users\\.shivanandappa\\anaconda3\\lib\\site-packages (from stack-data->IPython) (0.8.3)\n",
      "Building wheels for collected packages: sklearn\n",
      "  Building wheel for sklearn (setup.py): started\n",
      "  Building wheel for sklearn (setup.py): finished with status 'done'\n",
      "  Created wheel for sklearn: filename=sklearn-0.0-py2.py3-none-any.whl size=1310 sha256=45eb3ef8e90697db01ea459d21ff9aa963ca4fa47155cc146b1174c725371328\n",
      "  Stored in directory: c:\\users\\.shivanandappa\\appdata\\local\\pip\\cache\\wheels\\e4\\7b\\98\\b6466d71b8d738a0c547008b9eb39bf8676d1ff6ca4b22af1c\n",
      "Successfully built sklearn\n",
      "Installing collected packages: sklearn\n",
      "Successfully installed sklearn-0.0\n",
      "Note: you may need to restart the kernel to use updated packages.\n"
     ]
    }
   ],
   "source": [
    "pip install pandas seaborn plotly sklearn statsmodels IPython"
   ]
  },
  {
   "cell_type": "code",
   "execution_count": 7,
   "metadata": {},
   "outputs": [],
   "source": [
    "#pip install tensorflow tensorflow_datasets"
   ]
  },
  {
   "cell_type": "markdown",
   "metadata": {},
   "source": [
    "For users with a preinstelled Anaconda Enterprise edition, please follow the\n",
    "installation steps below\n",
    "\n",
    "<ol>\n",
    "<li>Ask your system administrator to install a 64-bit Anaconda if possible</li> \n",
    "<li>Open an Anaconda Prompt or a Powershell</li>\n",
    "<li>Create and activate a new virtual environment: \n",
    "    \n",
    "    conda create -n [name of your environment] python=3.8\n",
    "    conda activate [name of your environment]\n",
    "    \n",
    "<li>Install the following libraries\n",
    "    \n",
    "    pip install tensorflow tensorflow_datasets\n",
    "    pip install pandas seaborn plotly sklearn statsmodels IPython\n",
    "    pip install eli5\n",
    "    pip install explainerdashboard\n",
    "    pip install --user pandas_profiling\n",
    "    pip install jupyter notebook pywin32\n",
    "</li>\n",
    "    \n",
    "<li>Install OpenCV. You can install either opencv-contrib-python or opencv-python.\n",
    "    The version opencv-contrib-python contains code from contibutors licensed for \n",
    "    non-commercial use only. If you plan to use OpenCV in your commercial projects consider using the free version opencv-python\n",
    "    \n",
    "    pip install opencv-python\n",
    "</li>\n",
    "    <li>Using the Anaconda navigators Preferences menu and set your new environment as the default environment. When opening an Anaconda prompt or the Powershell always make sure, that you activate the correct environment before continuing. </li>\n",
    "<li>Test your installation running the code cells below</li>    \n",
    "</ol>"
   ]
  },
  {
   "cell_type": "code",
   "execution_count": 8,
   "metadata": {
    "scrolled": true
   },
   "outputs": [],
   "source": [
    "import numpy as np\n",
    "import scipy\n",
    "\n",
    "import matplotlib\n",
    "import pandas as pd\n",
    "import plotly\n",
    "import plotly.express as px\n",
    "import seaborn as sns\n",
    "\n",
    "import IPython\n",
    "import ipywidgets\n",
    "\n",
    "import tensorflow as tf\n",
    "from tensorflow import keras\n",
    "import tensorflow_datasets as tfds\n",
    "\n",
    "import cv2\n",
    "\n",
    "import sklearn\n",
    "import statsmodels"
   ]
  },
  {
   "cell_type": "code",
   "execution_count": 13,
   "metadata": {},
   "outputs": [
    {
     "name": "stdout",
     "output_type": "stream",
     "text": [
      "Collecting opencv-contrib-python\n",
      "  Downloading opencv_contrib_python-4.6.0.66-cp36-abi3-win_amd64.whl (42.5 MB)\n",
      "Requirement already satisfied: numpy>=1.17.3 in c:\\users\\.shivanandappa\\anaconda3\\lib\\site-packages (from opencv-contrib-python) (1.21.5)\n",
      "Installing collected packages: opencv-contrib-python\n"
     ]
    },
    {
     "name": "stderr",
     "output_type": "stream",
     "text": [
      "ERROR: Could not install packages due to an OSError: [WinError 5] Access is denied: 'C:\\\\Users\\\\.Shivanandappa\\\\Anaconda3\\\\Lib\\\\site-packages\\\\cv2\\\\cv2.pyd'\n",
      "Consider using the `--user` option or check the permissions.\n",
      "\n"
     ]
    }
   ],
   "source": [
    "# OpenCV (cv2) can be installed as either opencv-python or opencv-contrib-python\n",
    "\n",
    "!pip install opencv-contrib-python"
   ]
  },
  {
   "cell_type": "code",
   "execution_count": 10,
   "metadata": {},
   "outputs": [
    {
     "name": "stdout",
     "output_type": "stream",
     "text": [
      "numpy version:        1.21.5\n",
      "scipy version:        1.7.3\n",
      "matplotlib version:   3.5.1\n",
      "pandas version:       1.4.2\n",
      "plotly version:       5.6.0\n",
      "seaborn version:      0.11.2\n",
      "IPython version:      8.2.0\n",
      "ipywigdets version:   7.6.5\n",
      "tensorflow version:   2.10.0\n",
      "keras version:        2.10.0\n",
      "tf datasets version:  4.7.0\n",
      "OpenCV (cv2):         4.6.0\n",
      "scikit-learn version: 1.1.2\n",
      "statsmodels:          0.13.2\n"
     ]
    }
   ],
   "source": [
    "print('numpy version:        %s' % np.__version__)\n",
    "print('scipy version:        %s' % scipy.__version__)\n",
    "\n",
    "print('matplotlib version:   %s' % matplotlib.__version__)\n",
    "print('pandas version:       %s' % pd.__version__)\n",
    "print('plotly version:       %s' % plotly.__version__)\n",
    "\n",
    "print('seaborn version:      %s' % sns.__version__)\n",
    "\n",
    "print('IPython version:      %s' % IPython.__version__)\n",
    "print('ipywigdets version:   %s' % ipywidgets.__version__)\n",
    "\n",
    "\n",
    "print('tensorflow version:   %s' % tf.__version__)\n",
    "print('keras version:        %s' % keras.__version__)\n",
    "print('tf datasets version:  %s' % tfds.__version__)\n",
    "\n",
    "\n",
    "print('OpenCV (cv2):         %s' % cv2.__version__)\n",
    "\n",
    "\n",
    "print('scikit-learn version: %s' % sklearn.__version__)\n",
    "print('statsmodels:          %s' % statsmodels.__version__)"
   ]
  },
  {
   "cell_type": "code",
   "execution_count": 14,
   "metadata": {},
   "outputs": [
    {
     "ename": "ImportError",
     "evalue": "cannot import name 'escape' from 'jinja2' (C:\\Users\\.Shivanandappa\\Anaconda3\\lib\\site-packages\\jinja2\\__init__.py)",
     "output_type": "error",
     "traceback": [
      "\u001b[1;31m---------------------------------------------------------------------------\u001b[0m",
      "\u001b[1;31mImportError\u001b[0m                               Traceback (most recent call last)",
      "Input \u001b[1;32mIn [14]\u001b[0m, in \u001b[0;36m<cell line: 5>\u001b[1;34m()\u001b[0m\n\u001b[0;32m      1\u001b[0m \u001b[38;5;28;01mimport\u001b[39;00m \u001b[38;5;21;01mmpl_toolkits\u001b[39;00m         \u001b[38;5;66;03m# Only needed for a few 3D visualizations\u001b[39;00m\n\u001b[0;32m      3\u001b[0m \u001b[38;5;28;01mimport\u001b[39;00m \u001b[38;5;21;01meli5\u001b[39;00m                 \u001b[38;5;66;03m# Only needed for an alternative version of estimating permutation importance\u001b[39;00m\n\u001b[1;32m----> 5\u001b[0m \u001b[38;5;28;01mimport\u001b[39;00m \u001b[38;5;21;01mexplainerdashboard\u001b[39;00m   \u001b[38;5;66;03m# A nice model inspection library\u001b[39;00m\n\u001b[0;32m      6\u001b[0m \u001b[38;5;28;01mimport\u001b[39;00m \u001b[38;5;21;01mpandas_profiling\u001b[39;00m\n",
      "File \u001b[1;32m~\\Anaconda3\\lib\\site-packages\\explainerdashboard\\__init__.py:5\u001b[0m, in \u001b[0;36m<module>\u001b[1;34m\u001b[0m\n\u001b[0;32m      2\u001b[0m ___version__ \u001b[38;5;241m=\u001b[39m \u001b[38;5;124m\"\u001b[39m\u001b[38;5;124m0.4.0\u001b[39m\u001b[38;5;124m\"\u001b[39m\n\u001b[0;32m      4\u001b[0m \u001b[38;5;28;01mfrom\u001b[39;00m \u001b[38;5;21;01m.\u001b[39;00m\u001b[38;5;21;01mexplainers\u001b[39;00m \u001b[38;5;28;01mimport\u001b[39;00m ClassifierExplainer, RegressionExplainer\n\u001b[1;32m----> 5\u001b[0m \u001b[38;5;28;01mfrom\u001b[39;00m \u001b[38;5;21;01m.\u001b[39;00m\u001b[38;5;21;01mdashboards\u001b[39;00m \u001b[38;5;28;01mimport\u001b[39;00m ExplainerDashboard, ExplainerHub, InlineExplainer\n",
      "File \u001b[1;32m~\\Anaconda3\\lib\\site-packages\\explainerdashboard\\dashboards.py:24\u001b[0m, in \u001b[0;36m<module>\u001b[1;34m\u001b[0m\n\u001b[0;32m     20\u001b[0m \u001b[38;5;28;01mimport\u001b[39;00m \u001b[38;5;21;01mwarnings\u001b[39;00m\n\u001b[0;32m     22\u001b[0m \u001b[38;5;28;01mimport\u001b[39;00m \u001b[38;5;21;01moyaml\u001b[39;00m \u001b[38;5;28;01mas\u001b[39;00m \u001b[38;5;21;01myaml\u001b[39;00m\n\u001b[1;32m---> 24\u001b[0m \u001b[38;5;28;01mimport\u001b[39;00m \u001b[38;5;21;01mdash\u001b[39;00m\n\u001b[0;32m     25\u001b[0m \u001b[38;5;28;01mfrom\u001b[39;00m \u001b[38;5;21;01mdash\u001b[39;00m \u001b[38;5;28;01mimport\u001b[39;00m html, dcc, Input, Output, State\n\u001b[0;32m     26\u001b[0m \u001b[38;5;28;01mfrom\u001b[39;00m \u001b[38;5;21;01mdash\u001b[39;00m\u001b[38;5;21;01m.\u001b[39;00m\u001b[38;5;21;01mexceptions\u001b[39;00m \u001b[38;5;28;01mimport\u001b[39;00m PreventUpdate\n",
      "File \u001b[1;32m~\\Anaconda3\\lib\\site-packages\\dash\\__init__.py:5\u001b[0m, in \u001b[0;36m<module>\u001b[1;34m\u001b[0m\n\u001b[0;32m      1\u001b[0m \u001b[38;5;66;03m# pylint: disable=C0413\u001b[39;00m\n\u001b[0;32m      2\u001b[0m \u001b[38;5;66;03m# __plotly_dash is for the \"make sure you don't have a dash.py\" check\u001b[39;00m\n\u001b[0;32m      3\u001b[0m \u001b[38;5;66;03m# must come before any other imports.\u001b[39;00m\n\u001b[0;32m      4\u001b[0m __plotly_dash \u001b[38;5;241m=\u001b[39m \u001b[38;5;28;01mTrue\u001b[39;00m\n\u001b[1;32m----> 5\u001b[0m \u001b[38;5;28;01mfrom\u001b[39;00m \u001b[38;5;21;01m.\u001b[39;00m\u001b[38;5;21;01mdependencies\u001b[39;00m \u001b[38;5;28;01mimport\u001b[39;00m (  \u001b[38;5;66;03m# noqa: F401,E402\u001b[39;00m\n\u001b[0;32m      6\u001b[0m     Input,  \u001b[38;5;66;03m# noqa: F401,E402\u001b[39;00m\n\u001b[0;32m      7\u001b[0m     Output,  \u001b[38;5;66;03m# noqa: F401,E402\u001b[39;00m\n\u001b[0;32m      8\u001b[0m     State,  \u001b[38;5;66;03m# noqa: F401,E402\u001b[39;00m\n\u001b[0;32m      9\u001b[0m     ClientsideFunction,  \u001b[38;5;66;03m# noqa: F401,E402\u001b[39;00m\n\u001b[0;32m     10\u001b[0m     MATCH,  \u001b[38;5;66;03m# noqa: F401,E402\u001b[39;00m\n\u001b[0;32m     11\u001b[0m     ALL,  \u001b[38;5;66;03m# noqa: F401,E402\u001b[39;00m\n\u001b[0;32m     12\u001b[0m     ALLSMALLER,  \u001b[38;5;66;03m# noqa: F401,E402\u001b[39;00m\n\u001b[0;32m     13\u001b[0m )  \u001b[38;5;66;03m# noqa: F401,E402\u001b[39;00m\n\u001b[0;32m     14\u001b[0m \u001b[38;5;28;01mfrom\u001b[39;00m \u001b[38;5;21;01m.\u001b[39;00m \u001b[38;5;28;01mimport\u001b[39;00m development  \u001b[38;5;66;03m# noqa: F401,E402\u001b[39;00m\n\u001b[0;32m     15\u001b[0m \u001b[38;5;28;01mfrom\u001b[39;00m \u001b[38;5;21;01m.\u001b[39;00m \u001b[38;5;28;01mimport\u001b[39;00m exceptions  \u001b[38;5;66;03m# noqa: F401,E402\u001b[39;00m\n",
      "File \u001b[1;32m~\\Anaconda3\\lib\\site-packages\\dash\\dependencies.py:4\u001b[0m, in \u001b[0;36m<module>\u001b[1;34m\u001b[0m\n\u001b[0;32m      1\u001b[0m \u001b[38;5;28;01mimport\u001b[39;00m \u001b[38;5;21;01mjson\u001b[39;00m\n\u001b[0;32m      2\u001b[0m \u001b[38;5;28;01mfrom\u001b[39;00m \u001b[38;5;21;01mdash\u001b[39;00m\u001b[38;5;21;01m.\u001b[39;00m\u001b[38;5;21;01mdevelopment\u001b[39;00m\u001b[38;5;21;01m.\u001b[39;00m\u001b[38;5;21;01mbase_component\u001b[39;00m \u001b[38;5;28;01mimport\u001b[39;00m Component\n\u001b[1;32m----> 4\u001b[0m \u001b[38;5;28;01mfrom\u001b[39;00m \u001b[38;5;21;01m.\u001b[39;00m\u001b[38;5;21;01m_validate\u001b[39;00m \u001b[38;5;28;01mimport\u001b[39;00m validate_callback\n\u001b[0;32m      5\u001b[0m \u001b[38;5;28;01mfrom\u001b[39;00m \u001b[38;5;21;01m.\u001b[39;00m\u001b[38;5;21;01m_grouping\u001b[39;00m \u001b[38;5;28;01mimport\u001b[39;00m flatten_grouping, make_grouping_by_index\n\u001b[0;32m      8\u001b[0m \u001b[38;5;28;01mclass\u001b[39;00m \u001b[38;5;21;01m_Wildcard\u001b[39;00m:  \u001b[38;5;66;03m# pylint: disable=too-few-public-methods\u001b[39;00m\n",
      "File \u001b[1;32m~\\Anaconda3\\lib\\site-packages\\dash\\_validate.py:5\u001b[0m, in \u001b[0;36m<module>\u001b[1;34m\u001b[0m\n\u001b[0;32m      3\u001b[0m \u001b[38;5;28;01mfrom\u001b[39;00m \u001b[38;5;21;01mtextwrap\u001b[39;00m \u001b[38;5;28;01mimport\u001b[39;00m dedent\n\u001b[0;32m      4\u001b[0m \u001b[38;5;28;01mfrom\u001b[39;00m \u001b[38;5;21;01mkeyword\u001b[39;00m \u001b[38;5;28;01mimport\u001b[39;00m iskeyword\n\u001b[1;32m----> 5\u001b[0m \u001b[38;5;28;01mimport\u001b[39;00m \u001b[38;5;21;01mflask\u001b[39;00m\n\u001b[0;32m      7\u001b[0m \u001b[38;5;28;01mfrom\u001b[39;00m \u001b[38;5;21;01m.\u001b[39;00m\u001b[38;5;21;01m_grouping\u001b[39;00m \u001b[38;5;28;01mimport\u001b[39;00m grouping_len, map_grouping\n\u001b[0;32m      8\u001b[0m \u001b[38;5;28;01mfrom\u001b[39;00m \u001b[38;5;21;01m.\u001b[39;00m\u001b[38;5;21;01mdevelopment\u001b[39;00m\u001b[38;5;21;01m.\u001b[39;00m\u001b[38;5;21;01mbase_component\u001b[39;00m \u001b[38;5;28;01mimport\u001b[39;00m Component\n",
      "File \u001b[1;32m~\\Anaconda3\\lib\\site-packages\\flask\\__init__.py:14\u001b[0m, in \u001b[0;36m<module>\u001b[1;34m\u001b[0m\n\u001b[0;32m      2\u001b[0m \u001b[38;5;124;03m\"\"\"\u001b[39;00m\n\u001b[0;32m      3\u001b[0m \u001b[38;5;124;03m    flask\u001b[39;00m\n\u001b[0;32m      4\u001b[0m \u001b[38;5;124;03m    ~~~~~\u001b[39;00m\n\u001b[1;32m   (...)\u001b[0m\n\u001b[0;32m     10\u001b[0m \u001b[38;5;124;03m    :license: BSD-3-Clause\u001b[39;00m\n\u001b[0;32m     11\u001b[0m \u001b[38;5;124;03m\"\"\"\u001b[39;00m\n\u001b[0;32m     12\u001b[0m \u001b[38;5;66;03m# utilities we import from Werkzeug and Jinja2 that are unused\u001b[39;00m\n\u001b[0;32m     13\u001b[0m \u001b[38;5;66;03m# in the module but are exported as public interface.\u001b[39;00m\n\u001b[1;32m---> 14\u001b[0m \u001b[38;5;28;01mfrom\u001b[39;00m \u001b[38;5;21;01mjinja2\u001b[39;00m \u001b[38;5;28;01mimport\u001b[39;00m escape\n\u001b[0;32m     15\u001b[0m \u001b[38;5;28;01mfrom\u001b[39;00m \u001b[38;5;21;01mjinja2\u001b[39;00m \u001b[38;5;28;01mimport\u001b[39;00m Markup\n\u001b[0;32m     16\u001b[0m \u001b[38;5;28;01mfrom\u001b[39;00m \u001b[38;5;21;01mwerkzeug\u001b[39;00m\u001b[38;5;21;01m.\u001b[39;00m\u001b[38;5;21;01mexceptions\u001b[39;00m \u001b[38;5;28;01mimport\u001b[39;00m abort\n",
      "\u001b[1;31mImportError\u001b[0m: cannot import name 'escape' from 'jinja2' (C:\\Users\\.Shivanandappa\\Anaconda3\\lib\\site-packages\\jinja2\\__init__.py)"
     ]
    }
   ],
   "source": [
    "import mpl_toolkits         # Only needed for a few 3D visualizations\n",
    "\n",
    "import eli5                 # Only needed for an alternative version of estimating permutation importance\n",
    "\n",
    "import explainerdashboard   # A nice model inspection library\n",
    "import pandas_profiling     # A nice data profiling library"
   ]
  },
  {
   "cell_type": "markdown",
   "metadata": {},
   "source": [
    "Install the library uk_utils\n",
    "\n",
    "<ol>\n",
    "    <li>Get the file uk_utils.zip from your Canvas course page</li>\n",
    "    <li>Locate the file on your local disk and cd to the respective folder</li>\n",
    "    <li>Unzip the file</li>\n",
    "    <li>cd to the folder uk_utils created during unzipping the file. If your unzipper created an additional folder you have to descent one more level into the subfolder uk_utils. That folder must contain a file named setup.py which contains the installation instructions. </li>\n",
    "    <li>Install the library\n",
    "        \n",
    "        python setup.py install\n",
    "</li>\n",
    "</ol>"
   ]
  },
  {
   "cell_type": "code",
   "execution_count": 16,
   "metadata": {},
   "outputs": [
    {
     "name": "stderr",
     "output_type": "stream",
     "text": [
      "ERROR: Could not find a version that satisfies the requirement uk_utils (from versions: none)\n",
      "ERROR: No matching distribution found for uk_utils\n"
     ]
    }
   ],
   "source": [
    "!pip install uk_utils"
   ]
  },
  {
   "cell_type": "code",
   "execution_count": 17,
   "metadata": {},
   "outputs": [
    {
     "ename": "ModuleNotFoundError",
     "evalue": "No module named 'uk_utils'",
     "output_type": "error",
     "traceback": [
      "\u001b[1;31m---------------------------------------------------------------------------\u001b[0m",
      "\u001b[1;31mModuleNotFoundError\u001b[0m                       Traceback (most recent call last)",
      "Input \u001b[1;32mIn [17]\u001b[0m, in \u001b[0;36m<cell line: 4>\u001b[1;34m()\u001b[0m\n\u001b[0;32m      1\u001b[0m \u001b[38;5;66;03m# The library uk_utils contains some utility functions / convenience functions. \u001b[39;00m\n\u001b[0;32m      2\u001b[0m \u001b[38;5;66;03m# It must be installed  manually and will be provided on the course website\u001b[39;00m\n\u001b[1;32m----> 4\u001b[0m \u001b[38;5;28;01mimport\u001b[39;00m \u001b[38;5;21;01muk_utils\u001b[39;00m\n",
      "\u001b[1;31mModuleNotFoundError\u001b[0m: No module named 'uk_utils'"
     ]
    }
   ],
   "source": [
    "# The library uk_utils contains some utility functions / convenience functions. \n",
    "# It must be installed  manually and will be provided on the course website\n",
    "\n",
    "import uk_utils "
   ]
  },
  {
   "cell_type": "code",
   "execution_count": 18,
   "metadata": {},
   "outputs": [
    {
     "ename": "NameError",
     "evalue": "name 'uk_utils' is not defined",
     "output_type": "error",
     "traceback": [
      "\u001b[1;31m---------------------------------------------------------------------------\u001b[0m",
      "\u001b[1;31mNameError\u001b[0m                                 Traceback (most recent call last)",
      "Input \u001b[1;32mIn [18]\u001b[0m, in \u001b[0;36m<cell line: 1>\u001b[1;34m()\u001b[0m\n\u001b[1;32m----> 1\u001b[0m \u001b[38;5;28mprint\u001b[39m(\u001b[38;5;124m'\u001b[39m\u001b[38;5;124muk_utils:            \u001b[39m\u001b[38;5;132;01m%s\u001b[39;00m\u001b[38;5;124m'\u001b[39m \u001b[38;5;241m%\u001b[39m \u001b[43muk_utils\u001b[49m\u001b[38;5;241m.\u001b[39m__version__)\n",
      "\u001b[1;31mNameError\u001b[0m: name 'uk_utils' is not defined"
     ]
    }
   ],
   "source": [
    "print('uk_utils:            %s' % uk_utils.__version__)"
   ]
  },
  {
   "cell_type": "code",
   "execution_count": null,
   "metadata": {},
   "outputs": [],
   "source": []
  }
 ],
 "metadata": {
  "hide_input": false,
  "kernelspec": {
   "display_name": "Python 3 (ipykernel)",
   "language": "python",
   "name": "python3"
  },
  "language_info": {
   "codemirror_mode": {
    "name": "ipython",
    "version": 3
   },
   "file_extension": ".py",
   "mimetype": "text/x-python",
   "name": "python",
   "nbconvert_exporter": "python",
   "pygments_lexer": "ipython3",
   "version": "3.9.12"
  }
 },
 "nbformat": 4,
 "nbformat_minor": 4
}
